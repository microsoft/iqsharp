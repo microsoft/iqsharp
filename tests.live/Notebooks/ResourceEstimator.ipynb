{
 "cells": [
  {
   "cell_type": "markdown",
   "metadata": {},
   "source": [
    "# Resource Estimation with Q#"
   ]
  },
  {
   "cell_type": "markdown",
   "metadata": {},
   "source": [
    "## Executing Q# operations in Azure Quantum"
   ]
  },
  {
   "cell_type": "markdown",
   "metadata": {},
   "source": [
    "For this notebook we use environment variables to specify credentials\n",
    "* AZURE_TENANT_ID\n",
    "* AZURE_CLIENT_ID\n",
    "* AZURE_CLIENT_SECRET\n",
    "\n",
    "And these variables to specify the workspace to connect to:\n",
    "* AZURE_QUANTUM_SUBSCRIPTION_ID\n",
    "* AZURE_QUANTUM_WORKSPACE_RG\n",
    "* AZURE_QUANTUM_WORKSPACE_LOCATION\n",
    "* AZURE_QUANTUM_WORKSPACE_STORAGE\n",
    "* AZURE_QUANTUM_WORKSPACE_NAME\n",
    "\n",
    "Optionally, if you login using `az login` you may specify\n",
    "`credential=cli` instead."
   ]
  },
  {
   "cell_type": "code",
   "execution_count": null,
   "metadata": {
    "vscode": {
     "languageId": "plaintext"
    }
   },
   "outputs": [],
   "source": [
    "%azure.connect\n",
    "credential=environment"
   ]
  },
  {
   "cell_type": "code",
   "execution_count": null,
   "metadata": {},
   "outputs": [],
   "source": [
    "%azure.target microsoft.estimator\n",
    "%package Microsoft.Quantum.Numerics"
   ]
  },
  {
   "cell_type": "code",
   "execution_count": null,
   "metadata": {
    "vscode": {
     "languageId": "plaintext"
    }
   },
   "outputs": [],
   "source": [
    "open Microsoft.Quantum.Arithmetic;\n",
    "\n",
    "operation EstimateMultiplication(bitwidth : Int) : Unit {\n",
    "    use factor1 = Qubit[bitwidth];\n",
    "    use factor2 = Qubit[bitwidth];\n",
    "    use product = Qubit[2 * bitwidth];\n",
    "    \n",
    "    MultiplyI(LittleEndian(factor1), LittleEndian(factor2), LittleEndian(product));\n",
    "}"
   ]
  },
  {
   "cell_type": "code",
   "execution_count": null,
   "metadata": {
    "vscode": {
     "languageId": "plaintext"
    }
   },
   "outputs": [],
   "source": [
    "%azure.execute EstimateMultiplication bitwidth=8"
   ]
  },
  {
   "cell_type": "code",
   "execution_count": null,
   "metadata": {
    "vscode": {
     "languageId": "plaintext"
    }
   },
   "outputs": [],
   "source": [
    "%azure.output"
   ]
  },
  {
   "cell_type": "code",
   "execution_count": null,
   "metadata": {},
   "outputs": [],
   "source": [
    "%azure.execute EstimateMultiplication bitwidth=8 jobParams={\"qubit\":{\"name\":\"slow gate-based\",\"oneQubitGateTime\":\"10 μs\",\"oneQubitMeasurementTime\":\"30 μs\",\"oneQubitGateErrorRate\":1e-3,\"tStateErrorRate\":1e-3}}"
   ]
  }
 ],
 "metadata": {
  "kernelspec": {
   "display_name": "Q#",
   "language": "qsharp",
   "name": "iqsharp"
  },
  "language_info": {
   "file_extension": ".qs",
   "mimetype": "text/x-qsharp",
   "name": "qsharp",
   "version": "0.27"
  }
 },
 "nbformat": 4,
 "nbformat_minor": 2
}
