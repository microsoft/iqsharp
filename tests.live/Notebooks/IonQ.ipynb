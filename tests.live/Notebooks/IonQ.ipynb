{
 "cells": [
  {
   "cell_type": "markdown",
   "source": [
    "# Quantum Computing on Azure Quantum with Q# and Jupyter Notebook: <br> Parallel QRNG"
   ],
   "metadata": {}
  },
  {
   "cell_type": "markdown",
   "source": [
    "This notebook demonstrates how to execute a Q# program on Azure Quantum."
   ],
   "metadata": {}
  },
  {
   "cell_type": "markdown",
   "source": [
    "## Executing Q# operations in Azure Quantum"
   ],
   "metadata": {}
  },
  {
   "cell_type": "markdown",
   "source": [
    "For this notebook we use environment variables to specify credentials\n",
    "* AZURE_TENANT_ID\n",
    "* AZURE_CLIENT_ID\n",
    "* AZURE_CLIENT_SECRET\n",
    "\n",
    "And these variables to specify the workspace to connect to:\n",
    "* AZURE_QUANTUM_SUBSCRIPTION_ID\n",
    "* AZURE_QUANTUM_WORKSPACE_RG\n",
    "* AZURE_QUANTUM_WORKSPACE_LOCATION\n",
    "* AZURE_QUANTUM_WORKSPACE_STORAGE\n",
    "* AZURE_QUANTUM_WORKSPACE_NAME\n",
    "\n",
    "Optionally, if you login using `az login` you may specify\n",
    "`credential=cli` instead."
   ],
   "metadata": {}
  },
  {
   "cell_type": "code",
   "execution_count": null,
   "source": [
    "%azure.connect \n",
    "credential=environment"
   ],
   "outputs": [],
   "metadata": {}
  },
  {
   "cell_type": "markdown",
   "source": [
    "Now, check that we're connected to a Workspace:"
   ],
   "metadata": {}
  },
  {
   "cell_type": "code",
   "execution_count": null,
   "source": [
    "%azure.connect"
   ],
   "outputs": [],
   "metadata": {}
  },
  {
   "cell_type": "markdown",
   "source": [
    "Get the list of Jobs from the workspace:"
   ],
   "metadata": {}
  },
  {
   "cell_type": "code",
   "execution_count": null,
   "source": [
    "%azure.jobs SampleRandomNumber"
   ],
   "outputs": [],
   "metadata": {}
  },
  {
   "cell_type": "markdown",
   "source": [
    "Defina a Q# operation and make sure it simulates correctly locally:"
   ],
   "metadata": {}
  },
  {
   "cell_type": "code",
   "execution_count": null,
   "source": [
    "open Microsoft.Quantum.Arrays;\n",
    "open Microsoft.Quantum.Measurement;\n",
    "\n",
    "operation SampleRandomNumber(nQubits : Int) : Result[] {\n",
    "\n",
    "    // We prepare a register of qubits in a uniform\n",
    "    // superposition state, such that when we measure,\n",
    "    // all bitstrings occur with equal probability.\n",
    "    use register = Qubit[nQubits];\n",
    "\n",
    "    // Set qubits in superposition.\n",
    "    for i in 1..nQubits {\n",
    "        H(register[i-1]);\n",
    "    }\n",
    "    \n",
    "    // Measure all qubits and return.\n",
    "    return ForEach(MResetZ, register);\n",
    "}\n"
   ],
   "outputs": [],
   "metadata": {}
  },
  {
   "cell_type": "code",
   "execution_count": null,
   "source": [
    "%simulate SampleRandomNumber nQubits=4"
   ],
   "outputs": [],
   "metadata": {}
  },
  {
   "cell_type": "markdown",
   "source": [
    "Now, use `%azure.target` to specify the target you'd like to use for job submission."
   ],
   "metadata": {}
  },
  {
   "cell_type": "code",
   "execution_count": null,
   "source": [
    "%azure.target ionq.simulator"
   ],
   "outputs": [],
   "metadata": {}
  },
  {
   "cell_type": "markdown",
   "source": [
    "To submit a job, use `%azure.submit` along with the Q# operation name and any parameters required by that operation. The `%azure.submit` command will return immediately after the job is created. Alternatively, you can use `%azure.execute`, which will submit the job and wait for it to complete."
   ],
   "metadata": {}
  },
  {
   "cell_type": "code",
   "execution_count": null,
   "source": [
    "%azure.submit SampleRandomNumber nQubits=4 "
   ],
   "outputs": [],
   "metadata": {}
  },
  {
   "cell_type": "markdown",
   "source": [
    "Running `%azure.status` will display the status of the most recently submitted job in this session. If you want to check the status of a different job, provide the job ID to `%azure.status`."
   ],
   "metadata": {}
  },
  {
   "cell_type": "code",
   "execution_count": null,
   "source": [
    "%azure.status"
   ],
   "outputs": [],
   "metadata": {}
  },
  {
   "cell_type": "markdown",
   "source": [
    "Once the job has completed, use `%azure.output` to display the result. Again, you can provide a job ID to `%azure.output` if you want to display the status of a specific job."
   ],
   "metadata": {}
  },
  {
   "cell_type": "code",
   "execution_count": null,
   "source": [
    "%azure.execute SampleRandomNumber nQubits=4 \n",
    "timeout=300"
   ],
   "outputs": [],
   "metadata": {}
  },
  {
   "cell_type": "code",
   "execution_count": null,
   "source": [
    "%azure.output"
   ],
   "outputs": [],
   "metadata": {
    "scrolled": true
   }
  },
  {
   "cell_type": "markdown",
   "source": [
    "You can also view the status of all jobs by using `%azure.jobs`. Providing a parameter to this command will filter to just the jobs containing that string. For example, you can query for the status of all jobs named `Microsoft.Quantum.AzureSamples.SampleRandomNumber`."
   ],
   "metadata": {}
  },
  {
   "cell_type": "code",
   "execution_count": null,
   "source": [
    "%azure.jobs SampleRandomNumber"
   ],
   "outputs": [],
   "metadata": {}
  },
  {
   "cell_type": "markdown",
   "source": [
    "## Usage information"
   ],
   "metadata": {}
  },
  {
   "cell_type": "code",
   "execution_count": null,
   "source": [
    "%azure.connect?"
   ],
   "outputs": [],
   "metadata": {}
  },
  {
   "cell_type": "markdown",
   "source": [
    "To list all of the available magic commands, run `%lsmagic`."
   ],
   "metadata": {}
  },
  {
   "cell_type": "code",
   "execution_count": null,
   "source": [
    "%lsmagic"
   ],
   "outputs": [],
   "metadata": {}
  },
  {
   "cell_type": "markdown",
   "source": [
    "And to get detailed usage information on any of these magic commands, simply append `?` to its name."
   ],
   "metadata": {}
  },
  {
   "cell_type": "code",
   "execution_count": null,
   "source": [
    "%azure.execute?"
   ],
   "outputs": [],
   "metadata": {}
  }
 ],
 "metadata": {
  "kernelspec": {
   "display_name": "Q#",
   "language": "qsharp",
   "name": "iqsharp"
  },
  "language_info": {
   "file_extension": ".qs",
   "mimetype": "text/x-qsharp",
   "name": "qsharp",
   "version": "0.27"
  }
 },
 "nbformat": 4,
 "nbformat_minor": 4
}